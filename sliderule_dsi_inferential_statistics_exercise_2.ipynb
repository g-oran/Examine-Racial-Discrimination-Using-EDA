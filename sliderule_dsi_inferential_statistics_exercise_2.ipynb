{
 "cells": [
  {
   "cell_type": "markdown",
   "metadata": {},
   "source": [
    "# Examining Racial Discrimination in the US Job Market\n",
    "\n",
    "### Background\n",
    "Racial discrimination continues to be pervasive in cultures throughout the world. Researchers examined the level of racial discrimination in the United States labor market by randomly assigning identical résumés to black-sounding or white-sounding names and observing the impact on requests for interviews from employers.\n",
    "\n",
    "### Data\n",
    "In the dataset provided, each row represents a resume. The 'race' column has two values, 'b' and 'w', indicating black-sounding and white-sounding. The column 'call' has two values, 1 and 0, indicating whether the resume received a call from employers or not.\n",
    "\n",
    "Note that the 'b' and 'w' values in race are assigned randomly to the resumes when presented to the employer."
   ]
  },
  {
   "cell_type": "markdown",
   "metadata": {},
   "source": [
    "### Exercises\n",
    "You will perform a statistical analysis to establish whether race has a significant impact on the rate of callbacks for resumes.\n",
    "\n",
    "Answer the following questions **in this notebook below and submit to your Github account**. \n",
    "\n",
    "   1. What test is appropriate for this problem? Does CLT apply?\n",
    "   2. What are the null and alternate hypotheses?\n",
    "   3. Compute margin of error, confidence interval, and p-value. Try using both the bootstrapping and the frequentist statistical approaches.\n",
    "   4. Write a story describing the statistical significance in the context or the original problem.\n",
    "   5. Does your analysis mean that race/name is the most important factor in callback success? Why or why not? If not, how would you amend your analysis?\n",
    "\n",
    "You can include written notes in notebook cells using Markdown: \n",
    "   - In the control panel at the top, choose Cell > Cell Type > Markdown\n",
    "   - Markdown syntax: http://nestacms.com/docs/creating-content/markdown-cheat-sheet\n",
    "\n",
    "#### Resources\n",
    "+ Experiment information and data source: http://www.povertyactionlab.org/evaluation/discrimination-job-market-united-states\n",
    "+ Scipy statistical methods: http://docs.scipy.org/doc/scipy/reference/stats.html \n",
    "+ Markdown syntax: http://nestacms.com/docs/creating-content/markdown-cheat-sheet\n",
    "+ Formulas for the Bernoulli distribution: https://en.wikipedia.org/wiki/Bernoulli_distribution"
   ]
  },
  {
   "cell_type": "code",
   "execution_count": 3,
   "metadata": {},
   "outputs": [],
   "source": [
    "import pandas as pd\n",
    "import numpy as np\n",
    "from scipy import stats"
   ]
  },
  {
   "cell_type": "code",
   "execution_count": 4,
   "metadata": {},
   "outputs": [],
   "source": [
    "data = pd.io.stata.read_stata('data/us_job_market_discrimination.dta')"
   ]
  },
  {
   "cell_type": "code",
   "execution_count": 5,
   "metadata": {},
   "outputs": [
    {
     "name": "stdout",
     "output_type": "stream",
     "text": [
      "<class 'pandas.core.frame.DataFrame'>\n",
      "Int64Index: 4870 entries, 0 to 4869\n",
      "Data columns (total 65 columns):\n",
      "id                    4870 non-null object\n",
      "ad                    4870 non-null object\n",
      "education             4870 non-null int8\n",
      "ofjobs                4870 non-null int8\n",
      "yearsexp              4870 non-null int8\n",
      "honors                4870 non-null int8\n",
      "volunteer             4870 non-null int8\n",
      "military              4870 non-null int8\n",
      "empholes              4870 non-null int8\n",
      "occupspecific         4870 non-null int16\n",
      "occupbroad            4870 non-null int8\n",
      "workinschool          4870 non-null int8\n",
      "email                 4870 non-null int8\n",
      "computerskills        4870 non-null int8\n",
      "specialskills         4870 non-null int8\n",
      "firstname             4870 non-null object\n",
      "sex                   4870 non-null object\n",
      "race                  4870 non-null object\n",
      "h                     4870 non-null float32\n",
      "l                     4870 non-null float32\n",
      "call                  4870 non-null float32\n",
      "city                  4870 non-null object\n",
      "kind                  4870 non-null object\n",
      "adid                  4870 non-null float32\n",
      "fracblack             4784 non-null float32\n",
      "fracwhite             4784 non-null float32\n",
      "lmedhhinc             4784 non-null float32\n",
      "fracdropout           4784 non-null float32\n",
      "fraccolp              4784 non-null float32\n",
      "linc                  4784 non-null float32\n",
      "col                   4870 non-null float32\n",
      "expminreq             4870 non-null object\n",
      "schoolreq             4870 non-null object\n",
      "eoe                   4870 non-null float32\n",
      "parent_sales          1672 non-null float32\n",
      "parent_emp            1722 non-null float32\n",
      "branch_sales          608 non-null float32\n",
      "branch_emp            658 non-null float32\n",
      "fed                   3102 non-null float32\n",
      "fracblack_empzip      1918 non-null float32\n",
      "fracwhite_empzip      1918 non-null float32\n",
      "lmedhhinc_empzip      1908 non-null float32\n",
      "fracdropout_empzip    1918 non-null float32\n",
      "fraccolp_empzip       1918 non-null float32\n",
      "linc_empzip           1918 non-null float32\n",
      "manager               4870 non-null float32\n",
      "supervisor            4870 non-null float32\n",
      "secretary             4870 non-null float32\n",
      "offsupport            4870 non-null float32\n",
      "salesrep              4870 non-null float32\n",
      "retailsales           4870 non-null float32\n",
      "req                   4870 non-null float32\n",
      "expreq                4870 non-null float32\n",
      "comreq                4870 non-null float32\n",
      "educreq               4870 non-null float32\n",
      "compreq               4870 non-null float32\n",
      "orgreq                4870 non-null float32\n",
      "manuf                 4870 non-null float32\n",
      "transcom              4870 non-null float32\n",
      "bankreal              4870 non-null float32\n",
      "trade                 4870 non-null float32\n",
      "busservice            4870 non-null float32\n",
      "othservice            4870 non-null float32\n",
      "missind               4870 non-null float32\n",
      "ownership             4870 non-null object\n",
      "dtypes: float32(42), int16(1), int8(12), object(10)\n",
      "memory usage: 1.3+ MB\n"
     ]
    }
   ],
   "source": [
    "data.info()"
   ]
  },
  {
   "cell_type": "code",
   "execution_count": 6,
   "metadata": {},
   "outputs": [
    {
     "data": {
      "text/plain": [
       "Index(['id', 'ad', 'education', 'ofjobs', 'yearsexp', 'honors', 'volunteer',\n",
       "       'military', 'empholes', 'occupspecific', 'occupbroad', 'workinschool',\n",
       "       'email', 'computerskills', 'specialskills', 'firstname', 'sex', 'race',\n",
       "       'h', 'l', 'call', 'city', 'kind', 'adid', 'fracblack', 'fracwhite',\n",
       "       'lmedhhinc', 'fracdropout', 'fraccolp', 'linc', 'col', 'expminreq',\n",
       "       'schoolreq', 'eoe', 'parent_sales', 'parent_emp', 'branch_sales',\n",
       "       'branch_emp', 'fed', 'fracblack_empzip', 'fracwhite_empzip',\n",
       "       'lmedhhinc_empzip', 'fracdropout_empzip', 'fraccolp_empzip',\n",
       "       'linc_empzip', 'manager', 'supervisor', 'secretary', 'offsupport',\n",
       "       'salesrep', 'retailsales', 'req', 'expreq', 'comreq', 'educreq',\n",
       "       'compreq', 'orgreq', 'manuf', 'transcom', 'bankreal', 'trade',\n",
       "       'busservice', 'othservice', 'missind', 'ownership'],\n",
       "      dtype='object')"
      ]
     },
     "execution_count": 6,
     "metadata": {},
     "output_type": "execute_result"
    }
   ],
   "source": [
    "data.columns"
   ]
  },
  {
   "cell_type": "code",
   "execution_count": 7,
   "metadata": {},
   "outputs": [
    {
     "data": {
      "text/html": [
       "<div>\n",
       "<style scoped>\n",
       "    .dataframe tbody tr th:only-of-type {\n",
       "        vertical-align: middle;\n",
       "    }\n",
       "\n",
       "    .dataframe tbody tr th {\n",
       "        vertical-align: top;\n",
       "    }\n",
       "\n",
       "    .dataframe thead th {\n",
       "        text-align: right;\n",
       "    }\n",
       "</style>\n",
       "<table border=\"1\" class=\"dataframe\">\n",
       "  <thead>\n",
       "    <tr style=\"text-align: right;\">\n",
       "      <th></th>\n",
       "      <th>id</th>\n",
       "      <th>ad</th>\n",
       "      <th>education</th>\n",
       "      <th>ofjobs</th>\n",
       "      <th>yearsexp</th>\n",
       "      <th>honors</th>\n",
       "      <th>volunteer</th>\n",
       "      <th>military</th>\n",
       "      <th>empholes</th>\n",
       "      <th>occupspecific</th>\n",
       "      <th>occupbroad</th>\n",
       "      <th>workinschool</th>\n",
       "      <th>email</th>\n",
       "      <th>computerskills</th>\n",
       "      <th>specialskills</th>\n",
       "      <th>firstname</th>\n",
       "      <th>sex</th>\n",
       "      <th>race</th>\n",
       "      <th>h</th>\n",
       "      <th>l</th>\n",
       "      <th>call</th>\n",
       "      <th>city</th>\n",
       "      <th>kind</th>\n",
       "      <th>adid</th>\n",
       "      <th>fracblack</th>\n",
       "      <th>fracwhite</th>\n",
       "      <th>lmedhhinc</th>\n",
       "      <th>fracdropout</th>\n",
       "      <th>fraccolp</th>\n",
       "      <th>linc</th>\n",
       "      <th>col</th>\n",
       "      <th>expminreq</th>\n",
       "      <th>schoolreq</th>\n",
       "      <th>eoe</th>\n",
       "      <th>parent_sales</th>\n",
       "      <th>parent_emp</th>\n",
       "      <th>branch_sales</th>\n",
       "      <th>branch_emp</th>\n",
       "      <th>fed</th>\n",
       "      <th>fracblack_empzip</th>\n",
       "      <th>fracwhite_empzip</th>\n",
       "      <th>lmedhhinc_empzip</th>\n",
       "      <th>fracdropout_empzip</th>\n",
       "      <th>fraccolp_empzip</th>\n",
       "      <th>linc_empzip</th>\n",
       "      <th>manager</th>\n",
       "      <th>supervisor</th>\n",
       "      <th>secretary</th>\n",
       "      <th>offsupport</th>\n",
       "      <th>salesrep</th>\n",
       "      <th>retailsales</th>\n",
       "      <th>req</th>\n",
       "      <th>expreq</th>\n",
       "      <th>comreq</th>\n",
       "      <th>educreq</th>\n",
       "      <th>compreq</th>\n",
       "      <th>orgreq</th>\n",
       "      <th>manuf</th>\n",
       "      <th>transcom</th>\n",
       "      <th>bankreal</th>\n",
       "      <th>trade</th>\n",
       "      <th>busservice</th>\n",
       "      <th>othservice</th>\n",
       "      <th>missind</th>\n",
       "      <th>ownership</th>\n",
       "    </tr>\n",
       "  </thead>\n",
       "  <tbody>\n",
       "    <tr>\n",
       "      <th>0</th>\n",
       "      <td>b</td>\n",
       "      <td>1</td>\n",
       "      <td>4</td>\n",
       "      <td>2</td>\n",
       "      <td>6</td>\n",
       "      <td>0</td>\n",
       "      <td>0</td>\n",
       "      <td>0</td>\n",
       "      <td>1</td>\n",
       "      <td>17</td>\n",
       "      <td>1</td>\n",
       "      <td>0</td>\n",
       "      <td>0</td>\n",
       "      <td>1</td>\n",
       "      <td>0</td>\n",
       "      <td>Allison</td>\n",
       "      <td>f</td>\n",
       "      <td>w</td>\n",
       "      <td>0.0</td>\n",
       "      <td>1.0</td>\n",
       "      <td>0.0</td>\n",
       "      <td>c</td>\n",
       "      <td>a</td>\n",
       "      <td>384.0</td>\n",
       "      <td>0.989360</td>\n",
       "      <td>0.005500</td>\n",
       "      <td>9.527484</td>\n",
       "      <td>0.274151</td>\n",
       "      <td>0.037662</td>\n",
       "      <td>8.706325</td>\n",
       "      <td>1.0</td>\n",
       "      <td>5</td>\n",
       "      <td></td>\n",
       "      <td>1.0</td>\n",
       "      <td>NaN</td>\n",
       "      <td>NaN</td>\n",
       "      <td>NaN</td>\n",
       "      <td>NaN</td>\n",
       "      <td>NaN</td>\n",
       "      <td>NaN</td>\n",
       "      <td>NaN</td>\n",
       "      <td>NaN</td>\n",
       "      <td>NaN</td>\n",
       "      <td>NaN</td>\n",
       "      <td>NaN</td>\n",
       "      <td>0.0</td>\n",
       "      <td>1.0</td>\n",
       "      <td>0.0</td>\n",
       "      <td>0.0</td>\n",
       "      <td>0.0</td>\n",
       "      <td>0.0</td>\n",
       "      <td>1.0</td>\n",
       "      <td>1.0</td>\n",
       "      <td>0.0</td>\n",
       "      <td>0.0</td>\n",
       "      <td>1.0</td>\n",
       "      <td>0.0</td>\n",
       "      <td>1.0</td>\n",
       "      <td>0.0</td>\n",
       "      <td>0.0</td>\n",
       "      <td>0.0</td>\n",
       "      <td>0.0</td>\n",
       "      <td>0.0</td>\n",
       "      <td>0.0</td>\n",
       "      <td></td>\n",
       "    </tr>\n",
       "    <tr>\n",
       "      <th>1</th>\n",
       "      <td>b</td>\n",
       "      <td>1</td>\n",
       "      <td>3</td>\n",
       "      <td>3</td>\n",
       "      <td>6</td>\n",
       "      <td>0</td>\n",
       "      <td>1</td>\n",
       "      <td>1</td>\n",
       "      <td>0</td>\n",
       "      <td>316</td>\n",
       "      <td>6</td>\n",
       "      <td>1</td>\n",
       "      <td>1</td>\n",
       "      <td>1</td>\n",
       "      <td>0</td>\n",
       "      <td>Kristen</td>\n",
       "      <td>f</td>\n",
       "      <td>w</td>\n",
       "      <td>1.0</td>\n",
       "      <td>0.0</td>\n",
       "      <td>0.0</td>\n",
       "      <td>c</td>\n",
       "      <td>a</td>\n",
       "      <td>384.0</td>\n",
       "      <td>0.080736</td>\n",
       "      <td>0.888374</td>\n",
       "      <td>10.408828</td>\n",
       "      <td>0.233687</td>\n",
       "      <td>0.087285</td>\n",
       "      <td>9.532859</td>\n",
       "      <td>0.0</td>\n",
       "      <td>5</td>\n",
       "      <td></td>\n",
       "      <td>1.0</td>\n",
       "      <td>NaN</td>\n",
       "      <td>NaN</td>\n",
       "      <td>NaN</td>\n",
       "      <td>NaN</td>\n",
       "      <td>NaN</td>\n",
       "      <td>NaN</td>\n",
       "      <td>NaN</td>\n",
       "      <td>NaN</td>\n",
       "      <td>NaN</td>\n",
       "      <td>NaN</td>\n",
       "      <td>NaN</td>\n",
       "      <td>0.0</td>\n",
       "      <td>1.0</td>\n",
       "      <td>0.0</td>\n",
       "      <td>0.0</td>\n",
       "      <td>0.0</td>\n",
       "      <td>0.0</td>\n",
       "      <td>1.0</td>\n",
       "      <td>1.0</td>\n",
       "      <td>0.0</td>\n",
       "      <td>0.0</td>\n",
       "      <td>1.0</td>\n",
       "      <td>0.0</td>\n",
       "      <td>1.0</td>\n",
       "      <td>0.0</td>\n",
       "      <td>0.0</td>\n",
       "      <td>0.0</td>\n",
       "      <td>0.0</td>\n",
       "      <td>0.0</td>\n",
       "      <td>0.0</td>\n",
       "      <td></td>\n",
       "    </tr>\n",
       "    <tr>\n",
       "      <th>2</th>\n",
       "      <td>b</td>\n",
       "      <td>1</td>\n",
       "      <td>4</td>\n",
       "      <td>1</td>\n",
       "      <td>6</td>\n",
       "      <td>0</td>\n",
       "      <td>0</td>\n",
       "      <td>0</td>\n",
       "      <td>0</td>\n",
       "      <td>19</td>\n",
       "      <td>1</td>\n",
       "      <td>1</td>\n",
       "      <td>0</td>\n",
       "      <td>1</td>\n",
       "      <td>0</td>\n",
       "      <td>Lakisha</td>\n",
       "      <td>f</td>\n",
       "      <td>b</td>\n",
       "      <td>0.0</td>\n",
       "      <td>1.0</td>\n",
       "      <td>0.0</td>\n",
       "      <td>c</td>\n",
       "      <td>a</td>\n",
       "      <td>384.0</td>\n",
       "      <td>0.104301</td>\n",
       "      <td>0.837370</td>\n",
       "      <td>10.466754</td>\n",
       "      <td>0.101335</td>\n",
       "      <td>0.591695</td>\n",
       "      <td>10.540329</td>\n",
       "      <td>1.0</td>\n",
       "      <td>5</td>\n",
       "      <td></td>\n",
       "      <td>1.0</td>\n",
       "      <td>NaN</td>\n",
       "      <td>NaN</td>\n",
       "      <td>NaN</td>\n",
       "      <td>NaN</td>\n",
       "      <td>NaN</td>\n",
       "      <td>NaN</td>\n",
       "      <td>NaN</td>\n",
       "      <td>NaN</td>\n",
       "      <td>NaN</td>\n",
       "      <td>NaN</td>\n",
       "      <td>NaN</td>\n",
       "      <td>0.0</td>\n",
       "      <td>1.0</td>\n",
       "      <td>0.0</td>\n",
       "      <td>0.0</td>\n",
       "      <td>0.0</td>\n",
       "      <td>0.0</td>\n",
       "      <td>1.0</td>\n",
       "      <td>1.0</td>\n",
       "      <td>0.0</td>\n",
       "      <td>0.0</td>\n",
       "      <td>1.0</td>\n",
       "      <td>0.0</td>\n",
       "      <td>1.0</td>\n",
       "      <td>0.0</td>\n",
       "      <td>0.0</td>\n",
       "      <td>0.0</td>\n",
       "      <td>0.0</td>\n",
       "      <td>0.0</td>\n",
       "      <td>0.0</td>\n",
       "      <td></td>\n",
       "    </tr>\n",
       "    <tr>\n",
       "      <th>3</th>\n",
       "      <td>b</td>\n",
       "      <td>1</td>\n",
       "      <td>3</td>\n",
       "      <td>4</td>\n",
       "      <td>6</td>\n",
       "      <td>0</td>\n",
       "      <td>1</td>\n",
       "      <td>0</td>\n",
       "      <td>1</td>\n",
       "      <td>313</td>\n",
       "      <td>5</td>\n",
       "      <td>0</td>\n",
       "      <td>1</td>\n",
       "      <td>1</td>\n",
       "      <td>1</td>\n",
       "      <td>Latonya</td>\n",
       "      <td>f</td>\n",
       "      <td>b</td>\n",
       "      <td>1.0</td>\n",
       "      <td>0.0</td>\n",
       "      <td>0.0</td>\n",
       "      <td>c</td>\n",
       "      <td>a</td>\n",
       "      <td>384.0</td>\n",
       "      <td>0.336165</td>\n",
       "      <td>0.637370</td>\n",
       "      <td>10.431908</td>\n",
       "      <td>0.108848</td>\n",
       "      <td>0.406576</td>\n",
       "      <td>10.412141</td>\n",
       "      <td>0.0</td>\n",
       "      <td>5</td>\n",
       "      <td></td>\n",
       "      <td>1.0</td>\n",
       "      <td>NaN</td>\n",
       "      <td>NaN</td>\n",
       "      <td>NaN</td>\n",
       "      <td>NaN</td>\n",
       "      <td>NaN</td>\n",
       "      <td>NaN</td>\n",
       "      <td>NaN</td>\n",
       "      <td>NaN</td>\n",
       "      <td>NaN</td>\n",
       "      <td>NaN</td>\n",
       "      <td>NaN</td>\n",
       "      <td>0.0</td>\n",
       "      <td>1.0</td>\n",
       "      <td>0.0</td>\n",
       "      <td>0.0</td>\n",
       "      <td>0.0</td>\n",
       "      <td>0.0</td>\n",
       "      <td>1.0</td>\n",
       "      <td>1.0</td>\n",
       "      <td>0.0</td>\n",
       "      <td>0.0</td>\n",
       "      <td>1.0</td>\n",
       "      <td>0.0</td>\n",
       "      <td>1.0</td>\n",
       "      <td>0.0</td>\n",
       "      <td>0.0</td>\n",
       "      <td>0.0</td>\n",
       "      <td>0.0</td>\n",
       "      <td>0.0</td>\n",
       "      <td>0.0</td>\n",
       "      <td></td>\n",
       "    </tr>\n",
       "    <tr>\n",
       "      <th>4</th>\n",
       "      <td>b</td>\n",
       "      <td>1</td>\n",
       "      <td>3</td>\n",
       "      <td>3</td>\n",
       "      <td>22</td>\n",
       "      <td>0</td>\n",
       "      <td>0</td>\n",
       "      <td>0</td>\n",
       "      <td>0</td>\n",
       "      <td>313</td>\n",
       "      <td>5</td>\n",
       "      <td>1</td>\n",
       "      <td>1</td>\n",
       "      <td>1</td>\n",
       "      <td>0</td>\n",
       "      <td>Carrie</td>\n",
       "      <td>f</td>\n",
       "      <td>w</td>\n",
       "      <td>1.0</td>\n",
       "      <td>0.0</td>\n",
       "      <td>0.0</td>\n",
       "      <td>c</td>\n",
       "      <td>a</td>\n",
       "      <td>385.0</td>\n",
       "      <td>0.397595</td>\n",
       "      <td>0.180196</td>\n",
       "      <td>9.876219</td>\n",
       "      <td>0.312873</td>\n",
       "      <td>0.030847</td>\n",
       "      <td>8.728264</td>\n",
       "      <td>0.0</td>\n",
       "      <td>some</td>\n",
       "      <td></td>\n",
       "      <td>1.0</td>\n",
       "      <td>9.4</td>\n",
       "      <td>143.0</td>\n",
       "      <td>9.4</td>\n",
       "      <td>143.0</td>\n",
       "      <td>0.0</td>\n",
       "      <td>0.204764</td>\n",
       "      <td>0.727046</td>\n",
       "      <td>10.619399</td>\n",
       "      <td>0.070493</td>\n",
       "      <td>0.369903</td>\n",
       "      <td>10.007352</td>\n",
       "      <td>0.0</td>\n",
       "      <td>0.0</td>\n",
       "      <td>1.0</td>\n",
       "      <td>0.0</td>\n",
       "      <td>0.0</td>\n",
       "      <td>0.0</td>\n",
       "      <td>1.0</td>\n",
       "      <td>1.0</td>\n",
       "      <td>0.0</td>\n",
       "      <td>0.0</td>\n",
       "      <td>1.0</td>\n",
       "      <td>1.0</td>\n",
       "      <td>0.0</td>\n",
       "      <td>0.0</td>\n",
       "      <td>0.0</td>\n",
       "      <td>0.0</td>\n",
       "      <td>0.0</td>\n",
       "      <td>1.0</td>\n",
       "      <td>0.0</td>\n",
       "      <td>Nonprofit</td>\n",
       "    </tr>\n",
       "  </tbody>\n",
       "</table>\n",
       "</div>"
      ],
      "text/plain": [
       "  id ad  education  ofjobs  yearsexp  honors  volunteer  military  empholes  \\\n",
       "0  b  1          4       2         6       0          0         0         1   \n",
       "1  b  1          3       3         6       0          1         1         0   \n",
       "2  b  1          4       1         6       0          0         0         0   \n",
       "3  b  1          3       4         6       0          1         0         1   \n",
       "4  b  1          3       3        22       0          0         0         0   \n",
       "\n",
       "   occupspecific  occupbroad  workinschool  email  computerskills  \\\n",
       "0             17           1             0      0               1   \n",
       "1            316           6             1      1               1   \n",
       "2             19           1             1      0               1   \n",
       "3            313           5             0      1               1   \n",
       "4            313           5             1      1               1   \n",
       "\n",
       "   specialskills firstname sex race    h    l  call city kind   adid  \\\n",
       "0              0   Allison   f    w  0.0  1.0   0.0    c    a  384.0   \n",
       "1              0   Kristen   f    w  1.0  0.0   0.0    c    a  384.0   \n",
       "2              0   Lakisha   f    b  0.0  1.0   0.0    c    a  384.0   \n",
       "3              1   Latonya   f    b  1.0  0.0   0.0    c    a  384.0   \n",
       "4              0    Carrie   f    w  1.0  0.0   0.0    c    a  385.0   \n",
       "\n",
       "   fracblack  fracwhite  lmedhhinc  fracdropout  fraccolp       linc  col  \\\n",
       "0   0.989360   0.005500   9.527484     0.274151  0.037662   8.706325  1.0   \n",
       "1   0.080736   0.888374  10.408828     0.233687  0.087285   9.532859  0.0   \n",
       "2   0.104301   0.837370  10.466754     0.101335  0.591695  10.540329  1.0   \n",
       "3   0.336165   0.637370  10.431908     0.108848  0.406576  10.412141  0.0   \n",
       "4   0.397595   0.180196   9.876219     0.312873  0.030847   8.728264  0.0   \n",
       "\n",
       "  expminreq schoolreq  eoe  parent_sales  parent_emp  branch_sales  \\\n",
       "0         5            1.0           NaN         NaN           NaN   \n",
       "1         5            1.0           NaN         NaN           NaN   \n",
       "2         5            1.0           NaN         NaN           NaN   \n",
       "3         5            1.0           NaN         NaN           NaN   \n",
       "4      some            1.0           9.4       143.0           9.4   \n",
       "\n",
       "   branch_emp  fed  fracblack_empzip  fracwhite_empzip  lmedhhinc_empzip  \\\n",
       "0         NaN  NaN               NaN               NaN               NaN   \n",
       "1         NaN  NaN               NaN               NaN               NaN   \n",
       "2         NaN  NaN               NaN               NaN               NaN   \n",
       "3         NaN  NaN               NaN               NaN               NaN   \n",
       "4       143.0  0.0          0.204764          0.727046         10.619399   \n",
       "\n",
       "   fracdropout_empzip  fraccolp_empzip  linc_empzip  manager  supervisor  \\\n",
       "0                 NaN              NaN          NaN      0.0         1.0   \n",
       "1                 NaN              NaN          NaN      0.0         1.0   \n",
       "2                 NaN              NaN          NaN      0.0         1.0   \n",
       "3                 NaN              NaN          NaN      0.0         1.0   \n",
       "4            0.070493         0.369903    10.007352      0.0         0.0   \n",
       "\n",
       "   secretary  offsupport  salesrep  retailsales  req  expreq  comreq  educreq  \\\n",
       "0        0.0         0.0       0.0          0.0  1.0     1.0     0.0      0.0   \n",
       "1        0.0         0.0       0.0          0.0  1.0     1.0     0.0      0.0   \n",
       "2        0.0         0.0       0.0          0.0  1.0     1.0     0.0      0.0   \n",
       "3        0.0         0.0       0.0          0.0  1.0     1.0     0.0      0.0   \n",
       "4        1.0         0.0       0.0          0.0  1.0     1.0     0.0      0.0   \n",
       "\n",
       "   compreq  orgreq  manuf  transcom  bankreal  trade  busservice  othservice  \\\n",
       "0      1.0     0.0    1.0       0.0       0.0    0.0         0.0         0.0   \n",
       "1      1.0     0.0    1.0       0.0       0.0    0.0         0.0         0.0   \n",
       "2      1.0     0.0    1.0       0.0       0.0    0.0         0.0         0.0   \n",
       "3      1.0     0.0    1.0       0.0       0.0    0.0         0.0         0.0   \n",
       "4      1.0     1.0    0.0       0.0       0.0    0.0         0.0         1.0   \n",
       "\n",
       "   missind  ownership  \n",
       "0      0.0             \n",
       "1      0.0             \n",
       "2      0.0             \n",
       "3      0.0             \n",
       "4      0.0  Nonprofit  "
      ]
     },
     "execution_count": 7,
     "metadata": {},
     "output_type": "execute_result"
    }
   ],
   "source": [
    "pd.options.display.max_columns = 65 \n",
    "data.head()"
   ]
  },
  {
   "cell_type": "code",
   "execution_count": 17,
   "metadata": {},
   "outputs": [
    {
     "name": "stdout",
     "output_type": "stream",
     "text": [
      "The number of white-sounding resumes is 2435\n",
      "The number of callbacks for white-sounding names is 235.0\n",
      "The rate of white callback is 0.09650924024640657\n"
     ]
    }
   ],
   "source": [
    "w = data[data.race=='w']\n",
    "print(\"The number of white-sounding resumes is\", len(w))\n",
    "\n",
    "# number of callbacks for white-sounding names\n",
    "print(\"The number of callbacks for white-sounding names is\", sum(data[data.race=='w'].call))\n",
    "\n",
    "# Rate of White Callback\n",
    "w_rate = sum(data[data.race=='w'].call) / len(w)\n",
    "print (\"The rate of white callback is\", w_rate)"
   ]
  },
  {
   "cell_type": "code",
   "execution_count": 18,
   "metadata": {},
   "outputs": [
    {
     "name": "stdout",
     "output_type": "stream",
     "text": [
      "The number of black-sounding resumes is 2435\n",
      "The number of callbacks for black-sounding names is 157.0\n",
      "The rate of black callback is 0.06447638603696099\n"
     ]
    }
   ],
   "source": [
    "b = data[data.race=='b']\n",
    "print(\"The number of black-sounding resumes is\", len(b))\n",
    "\n",
    "# number of callbacks for black-sounding names\n",
    "print(\"The number of callbacks for black-sounding names is\", sum(data[data.race=='b'].call))\n",
    "\n",
    "# Rate of Black Callback\n",
    "b_rate = sum(data[data.race=='b'].call) / len(b)\n",
    "print (\"The rate of black callback is\", b_rate)"
   ]
  },
  {
   "cell_type": "code",
   "execution_count": 10,
   "metadata": {},
   "outputs": [
    {
     "data": {
      "text/plain": [
       "0"
      ]
     },
     "execution_count": 10,
     "metadata": {},
     "output_type": "execute_result"
    }
   ],
   "source": [
    "# Check for duplicate observations:\n",
    "data.duplicated().sum()"
   ]
  },
  {
   "cell_type": "code",
   "execution_count": 11,
   "metadata": {},
   "outputs": [
    {
     "data": {
      "text/plain": [
       "race    0\n",
       "call    0\n",
       "dtype: int64"
      ]
     },
     "execution_count": 11,
     "metadata": {},
     "output_type": "execute_result"
    }
   ],
   "source": [
    "# Check for missing values in race and call columns.\n",
    "data[['race','call']].isnull().sum()"
   ]
  },
  {
   "cell_type": "markdown",
   "metadata": {
    "collapsed": true
   },
   "source": [
    "<div class=\"span5 alert alert-success\">\n",
    "<p>Your answers to Q1 and Q2 here</p>\n",
    "</div>"
   ]
  },
  {
   "cell_type": "markdown",
   "metadata": {},
   "source": [
    "## 1. What test is appropriate for this problem? Does CLT apply?"
   ]
  },
  {
   "cell_type": "markdown",
   "metadata": {},
   "source": [
    "A two-proportion z-test is appropriate for this problem. We can apply central limit theorem (CLT) if there are at least 30 observations in your sample."
   ]
  },
  {
   "cell_type": "markdown",
   "metadata": {},
   "source": [
    "## 2. What are the null and alternate hypotheses?"
   ]
  },
  {
   "cell_type": "markdown",
   "metadata": {},
   "source": [
    "**Null Hypothesis:** The proportion of callbacks for white-sounding names and the proportion of callbacks for black-sounding names are equal.\n",
    "\n",
    "**Alternative Hypothesis:** The proportion of callbacks for white-sounding names and the proportion of callbacks for black-sounding names are not equal."
   ]
  },
  {
   "cell_type": "markdown",
   "metadata": {},
   "source": [
    "## 3. Compute margin of error, confidence interval, and p-value. Try using both the bootstrapping and the frequentist statistical approaches."
   ]
  },
  {
   "cell_type": "markdown",
   "metadata": {},
   "source": [
    "\n",
    "#### a. Bootstrapping Approach"
   ]
  },
  {
   "cell_type": "code",
   "execution_count": 12,
   "metadata": {},
   "outputs": [],
   "source": [
    "def diff_of_proportions(data_1,data_2):\n",
    "    return abs(np.sum(data_1) - np.sum(data_2))"
   ]
  },
  {
   "cell_type": "code",
   "execution_count": 22,
   "metadata": {},
   "outputs": [],
   "source": [
    "def bs_split_data(data, funct, size=1):\n",
    "    \n",
    "    bs_replicates = np.empty(size)\n",
    "    \n",
    "    for i in range(size):\n",
    "        # Permutate the concatenated array\n",
    "        permutated_data= np.random.permutation(data)\n",
    "        \n",
    "        # Split the permutated array into two\n",
    "        half_count = int(len(data)/2)\n",
    "        perm_sample_1 = permutated_data[:half_count]\n",
    "        perm_sample_2 = permutated_data[half_count:]\n",
    "        \n",
    "        # Call function\n",
    "        bs_replicates[i] = func(perm_sample_1,)"
   ]
  },
  {
   "cell_type": "code",
   "execution_count": 23,
   "metadata": {},
   "outputs": [],
   "source": [
    "# Define bootstrap function that randomly split data\n",
    "def bs_split_data(data, func, size=1):\n",
    "    \n",
    "    # Initialize replicates\n",
    "    bs_replicates = np.empty(size)\n",
    "    \n",
    "    for i in range(size):\n",
    "        # Permutate the concatenated array: permutated_data\n",
    "        permuted_data = np.random.permutation(data)\n",
    "        \n",
    "        # Split the permuted array into two: perm_sample_1, perm_sample_2\n",
    "        # Assume data can be split into even numbers\n",
    "        half_count = int(len(data)/2)\n",
    "        perm_sample_1 = permuted_data[:half_count]\n",
    "        perm_sample_2 = permuted_data[half_count:]\n",
    "        \n",
    "        # Call function\n",
    "        bs_replicates[i] = func(perm_sample_1/half_count, perm_sample_2/half_count)\n",
    "        \n",
    "    return bs_replicates"
   ]
  },
  {
   "cell_type": "code",
   "execution_count": 24,
   "metadata": {},
   "outputs": [
    {
     "name": "stdout",
     "output_type": "stream",
     "text": [
      "p-value = 0.0\n"
     ]
    }
   ],
   "source": [
    "# Defining variables\n",
    "b_call_mean = b.call.mean()\n",
    "w_call_mean = w.call.mean()\n",
    "\n",
    "# Acquire 10000 bootstrap replicates using difference of proprotion\n",
    "bs_replicates = bs_split_data(data.call, diff_of_proportions, size=10000)\n",
    "\n",
    "bs_p_value = np.sum(bs_replicates>=diff_of_proportions(w_call_mean, b_call_mean))/len(bs_replicates)\n",
    "\n",
    "print(\"p-value =\", bs_p_value)"
   ]
  },
  {
   "cell_type": "code",
   "execution_count": 26,
   "metadata": {},
   "outputs": [
    {
     "name": "stdout",
     "output_type": "stream",
     "text": [
      "p-value: 0.0\n",
      "95% conf. int.: [-0.01191992  0.01190965]\n"
     ]
    }
   ],
   "source": [
    "calls=np.sum(w.call[w.call==1])\n",
    "\n",
    "diff_mean = w_call_mean - b_call_mean\n",
    "\n",
    "all_callbacks = np.array([True] * int(calls) + [False] * int(len(data)-calls))\n",
    "\n",
    "size = 10000\n",
    "\n",
    "bs_reps_diff = np.empty(size)\n",
    "\n",
    "for i in range(size):\n",
    "    w_bs_replicates = np.sum(np.random.choice(all_callbacks, size=len(w)))\n",
    "    b_bs_replicates = np.sum(np.random.choice(all_callbacks, size=len(b)))\n",
    "    \n",
    "    bs_reps_diff[i] = (w_bs_replicates - b_bs_replicates)/len(b)\n",
    "    \n",
    "bs_p_value = np.sum(bs_reps_diff >= diff_mean) / len(bs_reps_diff)\n",
    "\n",
    "bs_ci = np.percentile(bs_reps_diff, [2.5, 97.5])\n",
    "bs_mean_diff = np.mean(bs_reps_diff)\n",
    "\n",
    "print('p-value:', bs_p_value)\n",
    "print('95% conf. int.:', bs_ci)"
   ]
  },
  {
   "cell_type": "markdown",
   "metadata": {},
   "source": [
    "Conclusion:\n",
    "p_value is less than 0.05. Null Hypothesis will be rejected. We can conclude that race has a significant impact on the rate of callbacks for resumes."
   ]
  },
  {
   "cell_type": "markdown",
   "metadata": {},
   "source": [
    "#### b. Frequentist Statical Approach"
   ]
  },
  {
   "cell_type": "markdown",
   "metadata": {},
   "source": [
    "#### z_score"
   ]
  },
  {
   "cell_type": "code",
   "execution_count": 34,
   "metadata": {},
   "outputs": [
    {
     "name": "stdout",
     "output_type": "stream",
     "text": [
      "z score: 4.108412235238472\n"
     ]
    }
   ],
   "source": [
    "w_call = np.sum(data[data.race=='w'].call)\n",
    "b_call = np.sum(data[data.race=='b'].call)          \n",
    "phat = (w_call + b_call) / (len(w) + len(b))\n",
    "z = (diff_mean) / np.sqrt(phat * (1 - phat) * (( 1/ len(w)) + (1/len(b))))\n",
    "print ('z score:',z)"
   ]
  },
  {
   "cell_type": "markdown",
   "metadata": {},
   "source": [
    "#### p_value"
   ]
  },
  {
   "cell_type": "code",
   "execution_count": 35,
   "metadata": {},
   "outputs": [
    {
     "name": "stdout",
     "output_type": "stream",
     "text": [
      "p-value: 3.983885409504418e-05\n"
     ]
    }
   ],
   "source": [
    "p = stats.norm.cdf(-z)*2\n",
    "print ('p-value:',p)"
   ]
  },
  {
   "cell_type": "markdown",
   "metadata": {},
   "source": [
    "#### Margin of Error"
   ]
  },
  {
   "cell_type": "code",
   "execution_count": 38,
   "metadata": {},
   "outputs": [
    {
     "name": "stdout",
     "output_type": "stream",
     "text": [
      "Margin of Error: 0.015281912310894095\n"
     ]
    }
   ],
   "source": [
    "moe = 1.96 * np.sqrt(phat * (1 - phat) * (( 1/ len(w)) + (1/len(b))))\n",
    "print('Margin of Error:', moe)"
   ]
  },
  {
   "cell_type": "markdown",
   "metadata": {},
   "source": [
    "#### Confidence Interval"
   ]
  },
  {
   "cell_type": "code",
   "execution_count": 40,
   "metadata": {},
   "outputs": [
    {
     "name": "stdout",
     "output_type": "stream",
     "text": [
      "Confidence interval: [0.01675094 0.04731477]\n"
     ]
    }
   ],
   "source": [
    "ci = diff_mean + np.array([-1, 1]) * moe\n",
    "print('Confidence interval:', ci)"
   ]
  },
  {
   "cell_type": "markdown",
   "metadata": {},
   "source": [
    "**Conclusion:**\n",
    "The p-value is very low than 5%, so the null hypothesis is rejected. There is sufficient evidence that there is ifference in the proportion of callbacks for white-sounding names and the proportion of callbacks for black-sounding names."
   ]
  },
  {
   "cell_type": "markdown",
   "metadata": {},
   "source": [
    "<div class=\"span5 alert alert-success\">\n",
    "<p> Your answers to Q4 and Q5 here </p>\n",
    "</div>"
   ]
  },
  {
   "cell_type": "markdown",
   "metadata": {
    "collapsed": true
   },
   "source": [
    "## 4. Write a story describing the statistical significance in the context or the original problem."
   ]
  },
  {
   "cell_type": "markdown",
   "metadata": {},
   "source": [
    "We performed a statistical analysis to establish whether race has a significant impact on the rate of callbacks for resumes. That analysis tested the effect of race on callback success, and the statistics test indicates that racial discrimination in the United States labor market is significant. Given our sample data and our findings in this project, we can conclude that a black- or white-sounding name on a resume has a significant effect on callbacks.\n",
    "\n",
    "Based on the result of p-value which is too close to 0. This means that the effect that we see (a difference in the proportion of callbacks between white and balck sounding names) is significant.There is a 95% chance that the true difference of white-sounding call back rates and black-sounding call back rates is between 0.016 and 0.04. This means we are 95% confident that there exists a difference between the two races in which individuals with white-sounding names are favored and called back more often."
   ]
  },
  {
   "cell_type": "markdown",
   "metadata": {},
   "source": [
    "## 5. Does your analysis mean that race/name is the most important factor in callback success? Why or why not? If not, how would you amend your analysis?"
   ]
  },
  {
   "cell_type": "markdown",
   "metadata": {},
   "source": [
    "According to the resuts above, we conclude that a black- or white-sounding name on a resume has a significant effect on callbacks.This analysis does not mean the race/name is the most important factor in callback success because there are more other factors may affect employers' decision, like 'year of experience', 'education', 'resume quality',' applicants' address' or 'different types of jobs', etc."
   ]
  }
 ],
 "metadata": {
  "kernelspec": {
   "display_name": "Python 3",
   "language": "python",
   "name": "python3"
  },
  "language_info": {
   "codemirror_mode": {
    "name": "ipython",
    "version": 3
   },
   "file_extension": ".py",
   "mimetype": "text/x-python",
   "name": "python",
   "nbconvert_exporter": "python",
   "pygments_lexer": "ipython3",
   "version": "3.6.5"
  }
 },
 "nbformat": 4,
 "nbformat_minor": 1
}
